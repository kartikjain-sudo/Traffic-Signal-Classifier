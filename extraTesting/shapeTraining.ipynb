{
 "cells": [
  {
   "cell_type": "code",
   "execution_count": 1,
   "metadata": {},
   "outputs": [],
   "source": [
    "import cv2, numpy as np, os"
   ]
  },
  {
   "cell_type": "code",
   "execution_count": 2,
   "metadata": {},
   "outputs": [],
   "source": [
    "working_dir = os.getcwd()"
   ]
  },
  {
   "cell_type": "code",
   "execution_count": 3,
   "metadata": {},
   "outputs": [],
   "source": [
    "path = os.path.join(working_dir,'../images/shapes')\n",
    "os.chdir(path)\n",
    "# print(os.getcwd())\n",
    "img_size = 60 "
   ]
  },
  {
   "cell_type": "code",
   "execution_count": 4,
   "metadata": {},
   "outputs": [
    {
     "name": "stdout",
     "output_type": "stream",
     "text": [
      "['circle', 'square', 'triangle']\n"
     ]
    }
   ],
   "source": [
    "folders = os.listdir(os.getcwd())\n",
    "labels, images = [], []\n",
    "print(folders)"
   ]
  },
  {
   "cell_type": "code",
   "execution_count": 5,
   "metadata": {},
   "outputs": [
    {
     "name": "stdout",
     "output_type": "stream",
     "text": [
      "circle\n",
      "square\n",
      "triangle\n"
     ]
    }
   ],
   "source": [
    "for folder in folders:\n",
    "#     if (folder == 'star'):\n",
    "#         continue\n",
    "    print (folder)\n",
    "    for path in os.listdir(os.getcwd()+'/'+folder):\n",
    "        img = cv2.imread(folder+'/'+path,0)\n",
    "        #cv2.imshow('img', img)\n",
    "        #cv2.waitKey(1)\n",
    "        images.append(cv2.resize(img, (img_size, img_size)))\n",
    "        labels.append(folders.index(folder))"
   ]
  },
  {
   "cell_type": "code",
   "execution_count": 6,
   "metadata": {},
   "outputs": [
    {
     "name": "stdout",
     "output_type": "stream",
     "text": [
      "8964 2241 8964 2241\n",
      "(8964, 60, 60) (2241, 60, 60) (8964,) (2241,)\n"
     ]
    }
   ],
   "source": [
    "# to_train= 0\n",
    "# train_images, test_images, train_labels, test_labels = [],[],[],[]\n",
    "# for image, label in zip(images, labels):\n",
    "#     if to_train<5:\n",
    "#         train_images.append(image)\n",
    "#         train_labels.append(label)\n",
    "#         to_train+=1\n",
    "#     else:\n",
    "#         test_images.append(image)\n",
    "#         test_labels.append(label)\n",
    "#         to_train = 0\n",
    "\n",
    "from sklearn.model_selection import train_test_split\n",
    "\n",
    "images = np.array(images)\n",
    "labels = np.array(labels)\n",
    "\n",
    "train_images, test_images, train_labels, test_labels = train_test_split(images, labels, test_size=0.2, random_state=42)\n",
    "\n",
    "print(len(train_images), len(test_images), len(train_labels), len(test_labels))\n",
    "\n",
    "print(train_images.shape, test_images.shape, train_labels.shape, test_labels.shape)"
   ]
  },
  {
   "cell_type": "code",
   "execution_count": 7,
   "metadata": {},
   "outputs": [
    {
     "name": "stdout",
     "output_type": "stream",
     "text": [
      "11205\n"
     ]
    }
   ],
   "source": [
    "print(len(images))\n",
    "# print(images[11000])"
   ]
  },
  {
   "cell_type": "code",
   "execution_count": 8,
   "metadata": {},
   "outputs": [],
   "source": [
    "def flatten(dimData, images):\n",
    "    images = np.array(images)\n",
    "    images = images.reshape(len(images), dimData)\n",
    "    images = images.astype('float32')\n",
    "    images /=255\n",
    "    return images"
   ]
  },
  {
   "cell_type": "code",
   "execution_count": 9,
   "metadata": {},
   "outputs": [],
   "source": [
    "#flatten data\n",
    "dataDim = np.prod(images[0].shape)\n",
    "\n",
    "train_data = flatten(dataDim, train_images)\n",
    "test_data  = flatten(dataDim, test_images)"
   ]
  },
  {
   "cell_type": "code",
   "execution_count": 10,
   "metadata": {},
   "outputs": [],
   "source": [
    "from keras.utils import to_categorical\n",
    "\n",
    "train_labels_one_hot = to_categorical(train_labels)\n",
    "test_labels_one_hot = to_categorical(test_labels)"
   ]
  },
  {
   "cell_type": "code",
   "execution_count": 11,
   "metadata": {},
   "outputs": [
    {
     "name": "stdout",
     "output_type": "stream",
     "text": [
      "[1. 0. 0.]\n"
     ]
    }
   ],
   "source": [
    "print(train_labels_one_hot[2604])"
   ]
  },
  {
   "cell_type": "code",
   "execution_count": 12,
   "metadata": {},
   "outputs": [
    {
     "name": "stdout",
     "output_type": "stream",
     "text": [
      "[0 1 2] 3\n"
     ]
    }
   ],
   "source": [
    "classes = np.unique(train_labels)\n",
    "nClasses  = len(classes)\n",
    "print(classes, nClasses)"
   ]
  },
  {
   "cell_type": "code",
   "execution_count": 13,
   "metadata": {},
   "outputs": [],
   "source": [
    "from keras.models import Sequential\n",
    "from keras.layers import Dense\n",
    "from keras.layers import Dropout"
   ]
  },
  {
   "cell_type": "code",
   "execution_count": 14,
   "metadata": {},
   "outputs": [],
   "source": [
    "model = Sequential()\n",
    "model.add(Dense(256, activation = 'tanh', input_shape = (dataDim,)))\n",
    "model.add(Dropout(0.2))\n",
    "model.add(Dense(256, activation='tanh'))\n",
    "model.add(Dropout(0.2))\n",
    "model.add(Dense(256, activation='relu'))\n",
    "model.add(Dropout(0.2))\n",
    "model.add(Dense(nClasses, activation='softmax'))"
   ]
  },
  {
   "cell_type": "code",
   "execution_count": 15,
   "metadata": {},
   "outputs": [
    {
     "name": "stdout",
     "output_type": "stream",
     "text": [
      "Epoch 1/50\n",
      "36/36 [==============================] - 2s 49ms/step - loss: 1.2560 - accuracy: 0.3421 - val_loss: 1.4128 - val_accuracy: 0.3253\n",
      "Epoch 2/50\n",
      "36/36 [==============================] - 1s 36ms/step - loss: 1.0306 - accuracy: 0.4615 - val_loss: 0.6811 - val_accuracy: 0.6600\n",
      "Epoch 3/50\n",
      "36/36 [==============================] - 1s 36ms/step - loss: 0.7201 - accuracy: 0.6099 - val_loss: 0.4928 - val_accuracy: 0.6600\n",
      "Epoch 4/50\n",
      "36/36 [==============================] - 1s 37ms/step - loss: 0.7386 - accuracy: 0.6487 - val_loss: 0.5374 - val_accuracy: 0.6600\n",
      "Epoch 5/50\n",
      "36/36 [==============================] - 1s 37ms/step - loss: 0.4472 - accuracy: 0.7829 - val_loss: 0.4202 - val_accuracy: 0.7340\n",
      "Epoch 6/50\n",
      "36/36 [==============================] - 1s 38ms/step - loss: 0.4759 - accuracy: 0.8099 - val_loss: 0.3559 - val_accuracy: 0.8581\n",
      "Epoch 7/50\n",
      "36/36 [==============================] - 1s 37ms/step - loss: 0.3207 - accuracy: 0.8670 - val_loss: 1.0180 - val_accuracy: 0.6600\n",
      "Epoch 8/50\n",
      "36/36 [==============================] - 1s 36ms/step - loss: 0.2660 - accuracy: 0.8968 - val_loss: 0.1011 - val_accuracy: 0.9518\n",
      "Epoch 9/50\n",
      "36/36 [==============================] - 1s 39ms/step - loss: 0.3843 - accuracy: 0.9051 - val_loss: 0.0457 - val_accuracy: 0.9902\n",
      "Epoch 10/50\n",
      "36/36 [==============================] - 1s 36ms/step - loss: 0.1922 - accuracy: 0.9382 - val_loss: 0.0332 - val_accuracy: 0.9911\n",
      "Epoch 11/50\n",
      "36/36 [==============================] - 1s 36ms/step - loss: 0.1492 - accuracy: 0.9527 - val_loss: 0.0724 - val_accuracy: 0.9813\n",
      "Epoch 12/50\n",
      "36/36 [==============================] - 1s 37ms/step - loss: 0.1974 - accuracy: 0.9401 - val_loss: 0.0265 - val_accuracy: 0.9942\n",
      "Epoch 13/50\n",
      "36/36 [==============================] - 1s 39ms/step - loss: 0.2204 - accuracy: 0.9584 - val_loss: 0.0359 - val_accuracy: 0.9897\n",
      "Epoch 14/50\n",
      "36/36 [==============================] - 1s 37ms/step - loss: 0.2045 - accuracy: 0.9526 - val_loss: 0.0273 - val_accuracy: 0.9929\n",
      "Epoch 15/50\n",
      "36/36 [==============================] - 1s 37ms/step - loss: 0.1136 - accuracy: 0.9723 - val_loss: 0.0241 - val_accuracy: 0.9946\n",
      "Epoch 16/50\n",
      "36/36 [==============================] - 1s 40ms/step - loss: 0.1133 - accuracy: 0.9728 - val_loss: 0.0647 - val_accuracy: 0.9844\n",
      "Epoch 17/50\n",
      "36/36 [==============================] - 1s 37ms/step - loss: 0.2442 - accuracy: 0.9583 - val_loss: 0.0276 - val_accuracy: 0.9946\n",
      "Epoch 18/50\n",
      "36/36 [==============================] - 1s 40ms/step - loss: 0.1085 - accuracy: 0.9762 - val_loss: 0.0189 - val_accuracy: 0.9955\n",
      "Epoch 19/50\n",
      "36/36 [==============================] - 1s 36ms/step - loss: 0.0796 - accuracy: 0.9772 - val_loss: 0.0198 - val_accuracy: 0.9951\n",
      "Epoch 20/50\n",
      "36/36 [==============================] - 1s 37ms/step - loss: 0.1129 - accuracy: 0.9790 - val_loss: 0.0178 - val_accuracy: 0.9951\n",
      "Epoch 21/50\n",
      "36/36 [==============================] - 1s 36ms/step - loss: 0.0815 - accuracy: 0.9822 - val_loss: 0.0175 - val_accuracy: 0.9942\n",
      "Epoch 22/50\n",
      "36/36 [==============================] - 1s 36ms/step - loss: 0.2515 - accuracy: 0.9637 - val_loss: 0.0180 - val_accuracy: 0.9960\n",
      "Epoch 23/50\n",
      "36/36 [==============================] - 1s 36ms/step - loss: 0.0695 - accuracy: 0.9816 - val_loss: 0.0181 - val_accuracy: 0.9960\n",
      "Epoch 24/50\n",
      "36/36 [==============================] - 1s 37ms/step - loss: 0.0974 - accuracy: 0.9779 - val_loss: 0.0180 - val_accuracy: 0.9960\n",
      "Epoch 25/50\n",
      "36/36 [==============================] - 1s 37ms/step - loss: 0.0920 - accuracy: 0.9766 - val_loss: 0.0225 - val_accuracy: 0.9955\n",
      "Epoch 26/50\n",
      "36/36 [==============================] - 1s 36ms/step - loss: 0.1163 - accuracy: 0.9803 - val_loss: 0.7758 - val_accuracy: 0.8251\n",
      "Epoch 27/50\n",
      "36/36 [==============================] - 1s 36ms/step - loss: 0.0837 - accuracy: 0.9778 - val_loss: 0.0186 - val_accuracy: 0.9964\n",
      "Epoch 28/50\n",
      "36/36 [==============================] - 1s 36ms/step - loss: 0.0437 - accuracy: 0.9891 - val_loss: 0.0163 - val_accuracy: 0.9964\n",
      "Epoch 29/50\n",
      "36/36 [==============================] - 1s 36ms/step - loss: 0.0431 - accuracy: 0.9897 - val_loss: 0.0120 - val_accuracy: 0.9978\n",
      "Epoch 30/50\n",
      "36/36 [==============================] - 1s 36ms/step - loss: 0.0812 - accuracy: 0.9791 - val_loss: 0.0144 - val_accuracy: 0.9969\n",
      "Epoch 31/50\n",
      "36/36 [==============================] - 1s 36ms/step - loss: 0.0546 - accuracy: 0.9839 - val_loss: 0.0143 - val_accuracy: 0.9964\n",
      "Epoch 32/50\n",
      "36/36 [==============================] - 1s 38ms/step - loss: 0.0565 - accuracy: 0.9857 - val_loss: 0.0137 - val_accuracy: 0.9969\n",
      "Epoch 33/50\n",
      "36/36 [==============================] - 1s 38ms/step - loss: 0.0530 - accuracy: 0.9861 - val_loss: 0.0956 - val_accuracy: 0.9647\n",
      "Epoch 34/50\n",
      "36/36 [==============================] - 1s 37ms/step - loss: 0.1084 - accuracy: 0.9868 - val_loss: 0.0111 - val_accuracy: 0.9982\n",
      "Epoch 35/50\n",
      "36/36 [==============================] - 1s 39ms/step - loss: 0.0530 - accuracy: 0.9852 - val_loss: 0.0095 - val_accuracy: 0.9987\n",
      "Epoch 36/50\n",
      "36/36 [==============================] - 1s 41ms/step - loss: 0.0529 - accuracy: 0.9863 - val_loss: 0.0116 - val_accuracy: 0.9987\n",
      "Epoch 37/50\n",
      "36/36 [==============================] - 1s 40ms/step - loss: 0.0561 - accuracy: 0.9854 - val_loss: 0.0112 - val_accuracy: 0.9973\n",
      "Epoch 38/50\n",
      "36/36 [==============================] - 1s 38ms/step - loss: 0.0548 - accuracy: 0.9855 - val_loss: 0.0108 - val_accuracy: 0.9978\n",
      "Epoch 39/50\n",
      "36/36 [==============================] - 1s 36ms/step - loss: 0.0656 - accuracy: 0.9842 - val_loss: 0.0134 - val_accuracy: 0.9969\n",
      "Epoch 40/50\n",
      "36/36 [==============================] - 1s 35ms/step - loss: 0.0238 - accuracy: 0.9941 - val_loss: 0.0108 - val_accuracy: 0.9978\n",
      "Epoch 41/50\n",
      "36/36 [==============================] - 1s 36ms/step - loss: 0.0437 - accuracy: 0.9868 - val_loss: 0.0099 - val_accuracy: 0.9987\n",
      "Epoch 42/50\n",
      "36/36 [==============================] - 1s 36ms/step - loss: 0.0728 - accuracy: 0.9845 - val_loss: 0.0362 - val_accuracy: 0.9933\n",
      "Epoch 43/50\n",
      "36/36 [==============================] - 1s 36ms/step - loss: 0.0135 - accuracy: 0.9977 - val_loss: 0.0108 - val_accuracy: 0.9982\n",
      "Epoch 44/50\n",
      "36/36 [==============================] - 1s 36ms/step - loss: 0.0333 - accuracy: 0.9920 - val_loss: 0.0101 - val_accuracy: 0.9987\n",
      "Epoch 45/50\n",
      "36/36 [==============================] - 1s 37ms/step - loss: 0.0438 - accuracy: 0.9897 - val_loss: 0.0106 - val_accuracy: 0.9978\n",
      "Epoch 46/50\n",
      "36/36 [==============================] - 1s 36ms/step - loss: 0.1198 - accuracy: 0.9851 - val_loss: 0.0093 - val_accuracy: 0.9982\n",
      "Epoch 47/50\n",
      "36/36 [==============================] - 1s 36ms/step - loss: 0.0490 - accuracy: 0.9885 - val_loss: 0.0108 - val_accuracy: 0.9982\n",
      "Epoch 48/50\n",
      "36/36 [==============================] - 1s 36ms/step - loss: 0.0206 - accuracy: 0.9939 - val_loss: 0.0106 - val_accuracy: 0.9982\n",
      "Epoch 49/50\n",
      "36/36 [==============================] - 1s 35ms/step - loss: 0.0489 - accuracy: 0.9896 - val_loss: 0.0096 - val_accuracy: 0.9982\n",
      "Epoch 50/50\n",
      "36/36 [==============================] - 1s 37ms/step - loss: 0.0178 - accuracy: 0.9962 - val_loss: 0.0126 - val_accuracy: 0.9987\n"
     ]
    }
   ],
   "source": [
    "model.compile(optimizer='rmsprop', loss='categorical_crossentropy', metrics=['accuracy'])\n",
    "history = model.fit(train_data, train_labels_one_hot, batch_size = 256, epochs=50, verbose=1,\n",
    "                    validation_data=(test_data, test_labels_one_hot))"
   ]
  },
  {
   "cell_type": "code",
   "execution_count": 16,
   "metadata": {},
   "outputs": [
    {
     "name": "stdout",
     "output_type": "stream",
     "text": [
      "71/71 [==============================] - 0s 4ms/step - loss: 0.0126 - accuracy: 0.9987\n",
      "Evaluation result on Test Data : Loss = 0.012564926408231258, accuracy = 0.9986613392829895\n"
     ]
    }
   ],
   "source": [
    "[test_loss, test_acc] = model.evaluate(test_data, test_labels_one_hot)\n",
    "print(\"Evaluation result on Test Data : Loss = {}, accuracy = {}\".format(test_loss, test_acc))"
   ]
  },
  {
   "cell_type": "code",
   "execution_count": 27,
   "metadata": {},
   "outputs": [],
   "source": [
    "model_path = os.path.join(os.getcwd(),'../../model')\n",
    "os.chdir(model_path)\n",
    "# print(os.getcwd())\n",
    "\n",
    "model.save('shapesmodel.h5')"
   ]
  },
  {
   "cell_type": "code",
   "execution_count": null,
   "metadata": {},
   "outputs": [],
   "source": []
  }
 ],
 "metadata": {
  "kernelspec": {
   "display_name": "Python 3",
   "language": "python",
   "name": "python3"
  },
  "language_info": {
   "codemirror_mode": {
    "name": "ipython",
    "version": 3
   },
   "file_extension": ".py",
   "mimetype": "text/x-python",
   "name": "python",
   "nbconvert_exporter": "python",
   "pygments_lexer": "ipython3",
   "version": "3.7.3"
  }
 },
 "nbformat": 4,
 "nbformat_minor": 2
}
