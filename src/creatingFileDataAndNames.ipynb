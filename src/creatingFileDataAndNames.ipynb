{
 "cells": [
  {
   "cell_type": "code",
   "execution_count": 1,
   "metadata": {},
   "outputs": [],
   "source": [
    "import os"
   ]
  },
  {
   "cell_type": "code",
   "execution_count": 5,
   "metadata": {},
   "outputs": [],
   "source": [
    "full_path_to_images = os.path.join(os.getcwd()+'\\..\\Images\\Detection\\YOLO format\\\\')\n",
    "full_path_to_files = os.path.join(os.getcwd()+'\\..\\Images\\Detection\\\\')"
   ]
  },
  {
   "cell_type": "code",
   "execution_count": 8,
   "metadata": {},
   "outputs": [],
   "source": [
    "# Defining counter for classes\n",
    "c = 0\n",
    "\n",
    "# Creating file classes.names from existing one classes.txt\n",
    "with open(full_path_to_files + '/' + 'classes.names', 'w') as names, \\\n",
    "     open(full_path_to_files + '/' + 'classes.txt', 'r') as txt:\n",
    "\n",
    "    # Going through all lines in txt file and writing them into names file\n",
    "    for line in txt:\n",
    "        names.write(line)  # Copying all info from file txt to names\n",
    "\n",
    "        # Increasing counter\n",
    "        c += 1"
   ]
  },
  {
   "cell_type": "code",
   "execution_count": 9,
   "metadata": {},
   "outputs": [],
   "source": [
    "# Creating file ts_data.data\n",
    "with open(full_path_to_files + '/' + 'ts_data.data', 'w') as data:\n",
    "    # Writing needed 5 lines\n",
    "    # Number of classes\n",
    "    # By using '\\n' we move to the next line\n",
    "    data.write('classes = ' + str(c) + '\\n')\n",
    "\n",
    "    # Location of the train.txt file\n",
    "    data.write('train = ' + full_path_to_files + '/' + 'train.txt' + '\\n')\n",
    "\n",
    "    # Location of the test.txt file\n",
    "    data.write('valid = ' + full_path_to_files + '/' + 'test.txt' + '\\n')\n",
    "\n",
    "    # Location of the classes.names file\n",
    "    data.write('names = ' + full_path_to_files + '/' + 'classes.names' + '\\n')\n",
    "\n",
    "    # Location where to save weights\n",
    "    data.write('backup = backup')\n"
   ]
  },
  {
   "cell_type": "code",
   "execution_count": null,
   "metadata": {},
   "outputs": [],
   "source": []
  }
 ],
 "metadata": {
  "kernelspec": {
   "display_name": "Python 3",
   "language": "python",
   "name": "python3"
  },
  "language_info": {
   "codemirror_mode": {
    "name": "ipython",
    "version": 3
   },
   "file_extension": ".py",
   "mimetype": "text/x-python",
   "name": "python",
   "nbconvert_exporter": "python",
   "pygments_lexer": "ipython3",
   "version": "3.7.3"
  }
 },
 "nbformat": 4,
 "nbformat_minor": 2
}
