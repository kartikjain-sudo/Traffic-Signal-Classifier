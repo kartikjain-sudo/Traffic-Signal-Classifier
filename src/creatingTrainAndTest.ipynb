{
 "cells": [
  {
   "cell_type": "code",
   "execution_count": 1,
   "metadata": {},
   "outputs": [],
   "source": [
    "import os"
   ]
  },
  {
   "cell_type": "code",
   "execution_count": 2,
   "metadata": {},
   "outputs": [],
   "source": [
    "full_path_to_images = os.path.join(os.getcwd()+'\\..\\Images\\Detection\\YOLO format\\\\')\n",
    "full_path_to_files = os.path.join(os.getcwd()+'\\..\\Images\\Detection\\\\')\n",
    "# print(full_path_to_files)"
   ]
  },
  {
   "cell_type": "code",
   "execution_count": 3,
   "metadata": {},
   "outputs": [],
   "source": [
    "# print(os.getcwd())\n",
    "os.chdir(full_path_to_files)\n",
    "# print(os.getcwd())"
   ]
  },
  {
   "cell_type": "code",
   "execution_count": 4,
   "metadata": {},
   "outputs": [],
   "source": [
    "# Defining list to write paths in\n",
    "p = []\n",
    "\n",
    "# Using os.walk for going through all directories\n",
    "# and files in them from the current directory\n",
    "# Fullstop in os.walk('.') means the current directory\n",
    "for current_dir, dirs, files in os.walk('.'):\n",
    "    # Going through all files\n",
    "    for f in files:\n",
    "        # Checking if filename ends with '.jpg'\n",
    "        if f.endswith('.jpg'):\n",
    "            # Preparing path to save into train.txt file\n",
    "            path_to_save_into_txt_files = full_path_to_images + '/' + f\n",
    "\n",
    "            # Appending the line into the list\n",
    "            # We use here '\\n' to move to the next line\n",
    "            # when writing lines into txt files\n",
    "            p.append(path_to_save_into_txt_files + '\\n')\n"
   ]
  },
  {
   "cell_type": "code",
   "execution_count": 5,
   "metadata": {},
   "outputs": [],
   "source": [
    "# Slicing first 15% of elements from the list\n",
    "# to write into the test.txt file\n",
    "p_test = p[:int(len(p) * 0.15)]\n",
    "\n",
    "# Deleting from initial list first 15% of elements\n",
    "p = p[int(len(p) * 0.15):]"
   ]
  },
  {
   "cell_type": "code",
   "execution_count": 6,
   "metadata": {},
   "outputs": [],
   "source": [
    "# Creating file train.txt and writing 85% of lines in it\n",
    "with open('train.txt', 'w') as train_txt:\n",
    "    # Going through all elements of the list\n",
    "    for e in p:\n",
    "        # Writing current path at the end of the file\n",
    "        train_txt.write(e)"
   ]
  },
  {
   "cell_type": "code",
   "execution_count": 7,
   "metadata": {},
   "outputs": [],
   "source": [
    "# Creating file test.txt and writing 15% of lines in it\n",
    "with open('test.txt', 'w') as test_txt:\n",
    "    # Going through all elements of the list\n",
    "    for e in p_test:\n",
    "        # Writing current path at the end of the file\n",
    "        test_txt.write(e)"
   ]
  },
  {
   "cell_type": "code",
   "execution_count": null,
   "metadata": {},
   "outputs": [],
   "source": []
  },
  {
   "cell_type": "code",
   "execution_count": null,
   "metadata": {},
   "outputs": [],
   "source": []
  }
 ],
 "metadata": {
  "kernelspec": {
   "display_name": "Python 3",
   "language": "python",
   "name": "python3"
  },
  "language_info": {
   "codemirror_mode": {
    "name": "ipython",
    "version": 3
   },
   "file_extension": ".py",
   "mimetype": "text/x-python",
   "name": "python",
   "nbconvert_exporter": "python",
   "pygments_lexer": "ipython3",
   "version": "3.7.3"
  }
 },
 "nbformat": 4,
 "nbformat_minor": 2
}
