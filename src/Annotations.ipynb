{
 "cells": [
  {
   "cell_type": "code",
   "execution_count": 1,
   "metadata": {},
   "outputs": [],
   "source": [
    "import pandas as pd\n",
    "import os\n",
    "import cv2"
   ]
  },
  {
   "cell_type": "code",
   "execution_count": 2,
   "metadata": {},
   "outputs": [],
   "source": [
    "full_path_to_ts_dataset = os.path.join(os.getcwd()+'\\..\\Images\\Detection\\PPM format\\\\')\n",
    "full_path_to_ts_dataset_info = os.path.join(os.getcwd()+'\\..\\Images\\Detection\\\\')\n",
    "# print(full_path_to_ts_dataset)"
   ]
  },
  {
   "cell_type": "code",
   "execution_count": 3,
   "metadata": {},
   "outputs": [],
   "source": [
    "# Defining lists for categories according to the classes ID's\n",
    "# Prohibitory category:\n",
    "# circular Traffic Signs with white background and red border line\n",
    "p = [0, 1, 2, 3, 4, 5, 7, 8, 9, 10, 15, 16]\n",
    "\n",
    "# Danger category:\n",
    "# triangular Traffic Signs with white background and red border line\n",
    "d = [11, 18, 19, 20, 21, 22, 23, 24, 25, 26, 27, 28, 29, 30, 31]\n",
    "\n",
    "# Mandatory category:\n",
    "# circular Traffic Signs with blue background\n",
    "m = [33, 34, 35, 36, 37, 38, 39, 40]\n",
    "\n",
    "# Other category:\n",
    "o = [6, 12, 13, 14, 17, 32, 41, 42]"
   ]
  },
  {
   "cell_type": "code",
   "execution_count": 4,
   "metadata": {},
   "outputs": [
    {
     "name": "stdout",
     "output_type": "stream",
     "text": [
      "     ImageID  XMin  YMin  XMax  YMax  ClassID\n",
      "0  00000.ppm   774   411   815   446       11\n",
      "1  00001.ppm   983   388  1024   432       40\n",
      "2  00001.ppm   386   494   442   552       38\n",
      "3  00001.ppm   973   335  1031   390       13\n",
      "4  00002.ppm   892   476  1006   592       39\n"
     ]
    }
   ],
   "source": [
    "ann = pd.read_csv(full_path_to_ts_dataset_info + '/' + 'DataInfo.txt',\n",
    "                  names=['ImageID',\n",
    "                         'XMin',\n",
    "                         'YMin',\n",
    "                         'XMax',\n",
    "                         'YMax',\n",
    "                         'ClassID'],\n",
    "                  sep=';')\n",
    "print(ann.head())"
   ]
  },
  {
   "cell_type": "code",
   "execution_count": 5,
   "metadata": {},
   "outputs": [],
   "source": [
    "# Adding new empty columns to dataFrame to save numbers for YOLO format\n",
    "ann['CategoryID'] = ''\n",
    "ann['center x'] = ''\n",
    "ann['center y'] = ''\n",
    "ann['width'] = ''\n",
    "ann['height'] = ''"
   ]
  },
  {
   "cell_type": "code",
   "execution_count": 6,
   "metadata": {},
   "outputs": [],
   "source": [
    "# Getting category's ID according to the class's ID\n",
    "# Writing numbers into appropriate column\n",
    "ann.loc[ann['ClassID'].isin(p), 'CategoryID'] = 0\n",
    "ann.loc[ann['ClassID'].isin(d), 'CategoryID'] = 1\n",
    "ann.loc[ann['ClassID'].isin(m), 'CategoryID'] = 2\n",
    "ann.loc[ann['ClassID'].isin(o), 'CategoryID'] = 3"
   ]
  },
  {
   "cell_type": "code",
   "execution_count": 7,
   "metadata": {},
   "outputs": [],
   "source": [
    "# Calculating bounding box's center in x and y for all rows\n",
    "# Saving results to appropriate columns\n",
    "ann['center x'] = (ann['XMax'] + ann['XMin']) / 2\n",
    "ann['center y'] = (ann['YMax'] + ann['YMin']) / 2"
   ]
  },
  {
   "cell_type": "code",
   "execution_count": 8,
   "metadata": {},
   "outputs": [],
   "source": [
    "# Calculating bounding box's width and height for all rows\n",
    "# Saving results to appropriate columns\n",
    "ann['width'] = ann['XMax'] - ann['XMin']\n",
    "ann['height'] = ann['YMax'] - ann['YMin']"
   ]
  },
  {
   "cell_type": "code",
   "execution_count": 9,
   "metadata": {},
   "outputs": [],
   "source": [
    "r = ann.loc[:, ['ImageID',\n",
    "                'CategoryID',\n",
    "                'center x',\n",
    "                'center y',\n",
    "                'width',\n",
    "                'height']].copy()"
   ]
  },
  {
   "cell_type": "code",
   "execution_count": 10,
   "metadata": {},
   "outputs": [
    {
     "name": "stdout",
     "output_type": "stream",
     "text": [
      "     ImageID  CategoryID  center x  center y  width  height\n",
      "0  00000.ppm           1     794.5     428.5     41      35\n",
      "1  00001.ppm           2    1003.5     410.0     41      44\n",
      "2  00001.ppm           2     414.0     523.0     56      58\n",
      "3  00001.ppm           3    1002.0     362.5     58      55\n",
      "4  00002.ppm           2     949.0     534.0    114     116\n"
     ]
    }
   ],
   "source": [
    "print(r.head())"
   ]
  },
  {
   "cell_type": "code",
   "execution_count": 11,
   "metadata": {},
   "outputs": [],
   "source": [
    "os.chdir(full_path_to_ts_dataset)\n",
    "# print(os.getcwd())"
   ]
  },
  {
   "cell_type": "code",
   "execution_count": 12,
   "metadata": {},
   "outputs": [],
   "source": [
    "# Using os.walk for going through all directories\n",
    "# and files in them from the current directory\n",
    "# Fullstop in os.walk('.') means the current directory\n",
    "for current_dir, dirs, files in os.walk('.'):\n",
    "    # Going through all files\n",
    "    for f in files:\n",
    "        # Checking if filename ends with '.ppm'\n",
    "        if f.endswith('.ppm'):\n",
    "            # Reading image and getting its real width and height\n",
    "            image_ppm = cv2.imread(f)\n",
    "\n",
    "            # Slicing from tuple only first two elements\n",
    "            h, w = image_ppm.shape[:2]\n",
    "\n",
    "            # Slicing only name of the file without extension\n",
    "            image_name = f[:-4]\n",
    "\n",
    "            # Getting Pandas dataFrame that has only needed rows\n",
    "            # By using 'loc' method we locate needed rows\n",
    "            # that satisfies condition 'classes['ImageID'] == f'\n",
    "            # that is 'find from the 1st column element that is equal to f'\n",
    "            # By using copy() we create separate dataFrame\n",
    "            # not just a reference to the previous one\n",
    "            # and, in this way, initial dataFrame will not be changed\n",
    "            sub_r = r.loc[r['ImageID'] == f].copy()\n",
    "\n",
    "            # Normalizing calculated bounding boxes' coordinates\n",
    "            # according to the real image width and height\n",
    "            sub_r['center x'] = sub_r['center x'] / w\n",
    "            sub_r['center y'] = sub_r['center y'] / h\n",
    "            sub_r['width'] = sub_r['width'] / w\n",
    "            sub_r['height'] = sub_r['height'] / h\n",
    "\n",
    "            # Getting resulted Pandas dataFrame that has only needed columns\n",
    "            # By using 'loc' method we locate here all rows\n",
    "            # but only specified columns\n",
    "            # By using copy() we create separate dataFrame\n",
    "            # not just a reference to the previous one\n",
    "            # and, in this way, initial dataFrame will not be changed\n",
    "            resulted_frame = sub_r.loc[:, ['CategoryID',\n",
    "                                           'center x',\n",
    "                                           'center y',\n",
    "                                           'width',\n",
    "                                           'height']].copy()\n",
    "\n",
    "            # Checking if there is no any annotations for current image\n",
    "            if resulted_frame.isnull().values.all():\n",
    "                # Skipping this image\n",
    "                continue\n",
    "\n",
    "            # Preparing path where to save txt file\n",
    "            path_to_save = os.path.join(full_path_to_ts_dataset + '../YOLO format')\n",
    "            path_to_info = path_to_save + '/' + image_name + '.txt'\n",
    "\n",
    "            # Saving resulted Pandas dataFrame into txt file\n",
    "            resulted_frame.to_csv(path_to_info, header=False, index=False, sep=' ')\n",
    "\n",
    "            # Preparing path where to save jpg image\n",
    "            path_to_image = path_to_save + '/' + image_name + '.jpg'\n",
    "\n",
    "            # Saving image in jpg format by OpenCV function\n",
    "            # that uses extension to choose format to save with\n",
    "            cv2.imwrite(path_to_image, image_ppm)"
   ]
  },
  {
   "cell_type": "code",
   "execution_count": null,
   "metadata": {},
   "outputs": [],
   "source": [
    "cv2.__version__"
   ]
  },
  {
   "cell_type": "code",
   "execution_count": null,
   "metadata": {},
   "outputs": [],
   "source": [
    "import ffmpeg"
   ]
  },
  {
   "cell_type": "code",
   "execution_count": null,
   "metadata": {},
   "outputs": [],
   "source": []
  }
 ],
 "metadata": {
  "kernelspec": {
   "display_name": "Python 3",
   "language": "python",
   "name": "python3"
  },
  "language_info": {
   "codemirror_mode": {
    "name": "ipython",
    "version": 3
   },
   "file_extension": ".py",
   "mimetype": "text/x-python",
   "name": "python",
   "nbconvert_exporter": "python",
   "pygments_lexer": "ipython3",
   "version": "3.7.3"
  }
 },
 "nbformat": 4,
 "nbformat_minor": 2
}
